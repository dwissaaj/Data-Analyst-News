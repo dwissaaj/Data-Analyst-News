{
 "cells": [
  {
   "cell_type": "code",
   "execution_count": 1,
   "metadata": {
    "_cell_guid": "b1076dfc-b9ad-4769-8c92-a6c4dae69d19",
    "_uuid": "8f2839f25d086af736a60e9eeb907d3b93b6e0e5",
    "execution": {
     "iopub.execute_input": "2020-11-27T08:43:38.643351Z",
     "iopub.status.busy": "2020-11-27T08:43:38.642176Z",
     "iopub.status.idle": "2020-11-27T08:43:38.644951Z",
     "shell.execute_reply": "2020-11-27T08:43:38.645552Z"
    },
    "papermill": {
     "duration": 0.034527,
     "end_time": "2020-11-27T08:43:38.645746",
     "exception": false,
     "start_time": "2020-11-27T08:43:38.611219",
     "status": "completed"
    },
    "tags": []
   },
   "outputs": [],
   "source": [
    "import numpy as np \n",
    "import pandas as pd \n",
    "import matplotlib.pyplot as plt\n"
   ]
  },
  {
   "cell_type": "code",
   "execution_count": 2,
   "metadata": {
    "_cell_guid": "79c7e3d0-c299-4dcb-8224-4455121ee9b0",
    "_uuid": "d629ff2d2480ee46fbb7e2d37f6b5fab8052498a",
    "execution": {
     "iopub.execute_input": "2020-11-27T08:43:38.699265Z",
     "iopub.status.busy": "2020-11-27T08:43:38.698451Z",
     "iopub.status.idle": "2020-11-27T08:43:38.894866Z",
     "shell.execute_reply": "2020-11-27T08:43:38.894145Z"
    },
    "papermill": {
     "duration": 0.22698,
     "end_time": "2020-11-27T08:43:38.895045",
     "exception": false,
     "start_time": "2020-11-27T08:43:38.668065",
     "status": "completed"
    },
    "tags": []
   },
   "outputs": [],
   "source": [
    "df = pd.read_csv(\"../input/internet-articles-data-with-users-engagement/articles_data.csv\",index_col=0)"
   ]
  },
  {
   "cell_type": "code",
   "execution_count": 3,
   "metadata": {
    "execution": {
     "iopub.execute_input": "2020-11-27T08:43:38.957605Z",
     "iopub.status.busy": "2020-11-27T08:43:38.956433Z",
     "iopub.status.idle": "2020-11-27T08:43:38.973014Z",
     "shell.execute_reply": "2020-11-27T08:43:38.973658Z"
    },
    "papermill": {
     "duration": 0.056482,
     "end_time": "2020-11-27T08:43:38.973816",
     "exception": false,
     "start_time": "2020-11-27T08:43:38.917334",
     "status": "completed"
    },
    "tags": []
   },
   "outputs": [
    {
     "data": {
      "text/html": [
       "<div>\n",
       "<style scoped>\n",
       "    .dataframe tbody tr th:only-of-type {\n",
       "        vertical-align: middle;\n",
       "    }\n",
       "\n",
       "    .dataframe tbody tr th {\n",
       "        vertical-align: top;\n",
       "    }\n",
       "\n",
       "    .dataframe thead th {\n",
       "        text-align: right;\n",
       "    }\n",
       "</style>\n",
       "<table border=\"1\" class=\"dataframe\">\n",
       "  <thead>\n",
       "    <tr style=\"text-align: right;\">\n",
       "      <th></th>\n",
       "      <th>source_id</th>\n",
       "      <th>source_name</th>\n",
       "      <th>author</th>\n",
       "      <th>title</th>\n",
       "      <th>description</th>\n",
       "      <th>url</th>\n",
       "      <th>url_to_image</th>\n",
       "      <th>published_at</th>\n",
       "      <th>content</th>\n",
       "      <th>top_article</th>\n",
       "      <th>engagement_reaction_count</th>\n",
       "      <th>engagement_comment_count</th>\n",
       "      <th>engagement_share_count</th>\n",
       "      <th>engagement_comment_plugin_count</th>\n",
       "    </tr>\n",
       "  </thead>\n",
       "  <tbody>\n",
       "    <tr>\n",
       "      <th>0</th>\n",
       "      <td>reuters</td>\n",
       "      <td>Reuters</td>\n",
       "      <td>Reuters Editorial</td>\n",
       "      <td>NTSB says Autopilot engaged in 2018 California...</td>\n",
       "      <td>The National Transportation Safety Board said ...</td>\n",
       "      <td>https://www.reuters.com/article/us-tesla-crash...</td>\n",
       "      <td>https://s4.reutersmedia.net/resources/r/?m=02&amp;...</td>\n",
       "      <td>2019-09-03T16:22:20Z</td>\n",
       "      <td>WASHINGTON (Reuters) - The National Transporta...</td>\n",
       "      <td>0.0</td>\n",
       "      <td>0.0</td>\n",
       "      <td>0.0</td>\n",
       "      <td>2528.0</td>\n",
       "      <td>0.0</td>\n",
       "    </tr>\n",
       "    <tr>\n",
       "      <th>1</th>\n",
       "      <td>the-irish-times</td>\n",
       "      <td>The Irish Times</td>\n",
       "      <td>Eoin Burke-Kennedy</td>\n",
       "      <td>Unemployment falls to post-crash low of 5.2%</td>\n",
       "      <td>Latest monthly figures reflect continued growt...</td>\n",
       "      <td>https://www.irishtimes.com/business/economy/un...</td>\n",
       "      <td>https://www.irishtimes.com/image-creator/?id=1...</td>\n",
       "      <td>2019-09-03T10:32:28Z</td>\n",
       "      <td>The States jobless rate fell to 5.2 per cent l...</td>\n",
       "      <td>0.0</td>\n",
       "      <td>6.0</td>\n",
       "      <td>10.0</td>\n",
       "      <td>2.0</td>\n",
       "      <td>0.0</td>\n",
       "    </tr>\n",
       "    <tr>\n",
       "      <th>2</th>\n",
       "      <td>the-irish-times</td>\n",
       "      <td>The Irish Times</td>\n",
       "      <td>Deirdre McQuillan</td>\n",
       "      <td>Louise Kennedy AW2019: Long coats, sparkling t...</td>\n",
       "      <td>Autumn-winter collection features designer’s g...</td>\n",
       "      <td>https://www.irishtimes.com/\\t\\t\\t\\t\\t\\t\\t/life...</td>\n",
       "      <td>https://www.irishtimes.com/image-creator/?id=1...</td>\n",
       "      <td>2019-09-03T14:40:00Z</td>\n",
       "      <td>Louise Kennedy is showing off her autumn-winte...</td>\n",
       "      <td>1.0</td>\n",
       "      <td>NaN</td>\n",
       "      <td>NaN</td>\n",
       "      <td>NaN</td>\n",
       "      <td>NaN</td>\n",
       "    </tr>\n",
       "    <tr>\n",
       "      <th>3</th>\n",
       "      <td>al-jazeera-english</td>\n",
       "      <td>Al Jazeera English</td>\n",
       "      <td>Al Jazeera</td>\n",
       "      <td>North Korean footballer Han joins Italian gian...</td>\n",
       "      <td>Han is the first North Korean player in the Se...</td>\n",
       "      <td>https://www.aljazeera.com/news/2019/09/north-k...</td>\n",
       "      <td>https://www.aljazeera.com/mritems/Images/2019/...</td>\n",
       "      <td>2019-09-03T17:25:39Z</td>\n",
       "      <td>Han Kwang Song, the first North Korean footbal...</td>\n",
       "      <td>0.0</td>\n",
       "      <td>0.0</td>\n",
       "      <td>0.0</td>\n",
       "      <td>7.0</td>\n",
       "      <td>0.0</td>\n",
       "    </tr>\n",
       "    <tr>\n",
       "      <th>4</th>\n",
       "      <td>bbc-news</td>\n",
       "      <td>BBC News</td>\n",
       "      <td>BBC News</td>\n",
       "      <td>UK government lawyer says proroguing parliamen...</td>\n",
       "      <td>The UK government's lawyer, David Johnston arg...</td>\n",
       "      <td>https://www.bbc.co.uk/news/av/uk-scotland-4956...</td>\n",
       "      <td>https://ichef.bbci.co.uk/news/1024/branded_new...</td>\n",
       "      <td>2019-09-03T14:39:21Z</td>\n",
       "      <td>NaN</td>\n",
       "      <td>0.0</td>\n",
       "      <td>0.0</td>\n",
       "      <td>0.0</td>\n",
       "      <td>0.0</td>\n",
       "      <td>0.0</td>\n",
       "    </tr>\n",
       "  </tbody>\n",
       "</table>\n",
       "</div>"
      ],
      "text/plain": [
       "            source_id         source_name              author  \\\n",
       "0             reuters             Reuters   Reuters Editorial   \n",
       "1     the-irish-times     The Irish Times  Eoin Burke-Kennedy   \n",
       "2     the-irish-times     The Irish Times   Deirdre McQuillan   \n",
       "3  al-jazeera-english  Al Jazeera English          Al Jazeera   \n",
       "4            bbc-news            BBC News            BBC News   \n",
       "\n",
       "                                               title  \\\n",
       "0  NTSB says Autopilot engaged in 2018 California...   \n",
       "1       Unemployment falls to post-crash low of 5.2%   \n",
       "2  Louise Kennedy AW2019: Long coats, sparkling t...   \n",
       "3  North Korean footballer Han joins Italian gian...   \n",
       "4  UK government lawyer says proroguing parliamen...   \n",
       "\n",
       "                                         description  \\\n",
       "0  The National Transportation Safety Board said ...   \n",
       "1  Latest monthly figures reflect continued growt...   \n",
       "2  Autumn-winter collection features designer’s g...   \n",
       "3  Han is the first North Korean player in the Se...   \n",
       "4  The UK government's lawyer, David Johnston arg...   \n",
       "\n",
       "                                                 url  \\\n",
       "0  https://www.reuters.com/article/us-tesla-crash...   \n",
       "1  https://www.irishtimes.com/business/economy/un...   \n",
       "2  https://www.irishtimes.com/\\t\\t\\t\\t\\t\\t\\t/life...   \n",
       "3  https://www.aljazeera.com/news/2019/09/north-k...   \n",
       "4  https://www.bbc.co.uk/news/av/uk-scotland-4956...   \n",
       "\n",
       "                                        url_to_image          published_at  \\\n",
       "0  https://s4.reutersmedia.net/resources/r/?m=02&...  2019-09-03T16:22:20Z   \n",
       "1  https://www.irishtimes.com/image-creator/?id=1...  2019-09-03T10:32:28Z   \n",
       "2  https://www.irishtimes.com/image-creator/?id=1...  2019-09-03T14:40:00Z   \n",
       "3  https://www.aljazeera.com/mritems/Images/2019/...  2019-09-03T17:25:39Z   \n",
       "4  https://ichef.bbci.co.uk/news/1024/branded_new...  2019-09-03T14:39:21Z   \n",
       "\n",
       "                                             content  top_article  \\\n",
       "0  WASHINGTON (Reuters) - The National Transporta...          0.0   \n",
       "1  The States jobless rate fell to 5.2 per cent l...          0.0   \n",
       "2  Louise Kennedy is showing off her autumn-winte...          1.0   \n",
       "3  Han Kwang Song, the first North Korean footbal...          0.0   \n",
       "4                                                NaN          0.0   \n",
       "\n",
       "   engagement_reaction_count  engagement_comment_count  \\\n",
       "0                        0.0                       0.0   \n",
       "1                        6.0                      10.0   \n",
       "2                        NaN                       NaN   \n",
       "3                        0.0                       0.0   \n",
       "4                        0.0                       0.0   \n",
       "\n",
       "   engagement_share_count  engagement_comment_plugin_count  \n",
       "0                  2528.0                              0.0  \n",
       "1                     2.0                              0.0  \n",
       "2                     NaN                              NaN  \n",
       "3                     7.0                              0.0  \n",
       "4                     0.0                              0.0  "
      ]
     },
     "execution_count": 3,
     "metadata": {},
     "output_type": "execute_result"
    }
   ],
   "source": [
    "df.head()"
   ]
  },
  {
   "cell_type": "markdown",
   "metadata": {
    "papermill": {
     "duration": 0.02406,
     "end_time": "2020-11-27T08:43:39.022524",
     "exception": false,
     "start_time": "2020-11-27T08:43:38.998464",
     "status": "completed"
    },
    "tags": []
   },
   "source": [
    "Check types,describe and missing value"
   ]
  },
  {
   "cell_type": "code",
   "execution_count": 4,
   "metadata": {
    "execution": {
     "iopub.execute_input": "2020-11-27T08:43:39.088202Z",
     "iopub.status.busy": "2020-11-27T08:43:39.087161Z",
     "iopub.status.idle": "2020-11-27T08:43:39.098753Z",
     "shell.execute_reply": "2020-11-27T08:43:39.097975Z"
    },
    "papermill": {
     "duration": 0.052117,
     "end_time": "2020-11-27T08:43:39.098876",
     "exception": false,
     "start_time": "2020-11-27T08:43:39.046759",
     "status": "completed"
    },
    "tags": []
   },
   "outputs": [
    {
     "data": {
      "text/html": [
       "<div>\n",
       "<style scoped>\n",
       "    .dataframe tbody tr th:only-of-type {\n",
       "        vertical-align: middle;\n",
       "    }\n",
       "\n",
       "    .dataframe tbody tr th {\n",
       "        vertical-align: top;\n",
       "    }\n",
       "\n",
       "    .dataframe thead th {\n",
       "        text-align: right;\n",
       "    }\n",
       "</style>\n",
       "<table border=\"1\" class=\"dataframe\">\n",
       "  <thead>\n",
       "    <tr style=\"text-align: right;\">\n",
       "      <th></th>\n",
       "      <th>0</th>\n",
       "    </tr>\n",
       "  </thead>\n",
       "  <tbody>\n",
       "    <tr>\n",
       "      <th>source_id</th>\n",
       "      <td>0</td>\n",
       "    </tr>\n",
       "    <tr>\n",
       "      <th>source_name</th>\n",
       "      <td>0</td>\n",
       "    </tr>\n",
       "    <tr>\n",
       "      <th>author</th>\n",
       "      <td>1020</td>\n",
       "    </tr>\n",
       "    <tr>\n",
       "      <th>title</th>\n",
       "      <td>2</td>\n",
       "    </tr>\n",
       "    <tr>\n",
       "      <th>description</th>\n",
       "      <td>24</td>\n",
       "    </tr>\n",
       "    <tr>\n",
       "      <th>url</th>\n",
       "      <td>1</td>\n",
       "    </tr>\n",
       "    <tr>\n",
       "      <th>url_to_image</th>\n",
       "      <td>656</td>\n",
       "    </tr>\n",
       "    <tr>\n",
       "      <th>published_at</th>\n",
       "      <td>1</td>\n",
       "    </tr>\n",
       "    <tr>\n",
       "      <th>content</th>\n",
       "      <td>1292</td>\n",
       "    </tr>\n",
       "    <tr>\n",
       "      <th>top_article</th>\n",
       "      <td>2</td>\n",
       "    </tr>\n",
       "    <tr>\n",
       "      <th>engagement_reaction_count</th>\n",
       "      <td>118</td>\n",
       "    </tr>\n",
       "    <tr>\n",
       "      <th>engagement_comment_count</th>\n",
       "      <td>118</td>\n",
       "    </tr>\n",
       "    <tr>\n",
       "      <th>engagement_share_count</th>\n",
       "      <td>118</td>\n",
       "    </tr>\n",
       "    <tr>\n",
       "      <th>engagement_comment_plugin_count</th>\n",
       "      <td>118</td>\n",
       "    </tr>\n",
       "  </tbody>\n",
       "</table>\n",
       "</div>"
      ],
      "text/plain": [
       "                                    0\n",
       "source_id                           0\n",
       "source_name                         0\n",
       "author                           1020\n",
       "title                               2\n",
       "description                        24\n",
       "url                                 1\n",
       "url_to_image                      656\n",
       "published_at                        1\n",
       "content                          1292\n",
       "top_article                         2\n",
       "engagement_reaction_count         118\n",
       "engagement_comment_count          118\n",
       "engagement_share_count            118\n",
       "engagement_comment_plugin_count   118"
      ]
     },
     "execution_count": 4,
     "metadata": {},
     "output_type": "execute_result"
    }
   ],
   "source": [
    "df.isnull().sum().to_frame()"
   ]
  },
  {
   "cell_type": "markdown",
   "metadata": {
    "papermill": {
     "duration": 0.023493,
     "end_time": "2020-11-27T08:43:39.147020",
     "exception": false,
     "start_time": "2020-11-27T08:43:39.123527",
     "status": "completed"
    },
    "tags": []
   },
   "source": [
    "We only need a few columns"
   ]
  },
  {
   "cell_type": "code",
   "execution_count": 5,
   "metadata": {
    "execution": {
     "iopub.execute_input": "2020-11-27T08:43:39.208670Z",
     "iopub.status.busy": "2020-11-27T08:43:39.207502Z",
     "iopub.status.idle": "2020-11-27T08:43:39.240791Z",
     "shell.execute_reply": "2020-11-27T08:43:39.240140Z"
    },
    "papermill": {
     "duration": 0.069954,
     "end_time": "2020-11-27T08:43:39.240924",
     "exception": false,
     "start_time": "2020-11-27T08:43:39.170970",
     "status": "completed"
    },
    "tags": []
   },
   "outputs": [],
   "source": [
    "df = df[['source_name','author','engagement_reaction_count','engagement_comment_count','engagement_share_count','engagement_comment_plugin_count']].dropna(axis=0,how='any')"
   ]
  },
  {
   "cell_type": "markdown",
   "metadata": {
    "papermill": {
     "duration": 0.02916,
     "end_time": "2020-11-27T08:43:39.299640",
     "exception": false,
     "start_time": "2020-11-27T08:43:39.270480",
     "status": "completed"
    },
    "tags": []
   },
   "source": [
    "the reaction engagement score grouped by source name"
   ]
  },
  {
   "cell_type": "code",
   "execution_count": 6,
   "metadata": {
    "execution": {
     "iopub.execute_input": "2020-11-27T08:43:39.377065Z",
     "iopub.status.busy": "2020-11-27T08:43:39.375890Z",
     "iopub.status.idle": "2020-11-27T08:43:39.392623Z",
     "shell.execute_reply": "2020-11-27T08:43:39.391436Z"
    },
    "papermill": {
     "duration": 0.05774,
     "end_time": "2020-11-27T08:43:39.392808",
     "exception": false,
     "start_time": "2020-11-27T08:43:39.335068",
     "status": "completed"
    },
    "tags": []
   },
   "outputs": [
    {
     "data": {
      "text/html": [
       "<div>\n",
       "<style scoped>\n",
       "    .dataframe tbody tr th:only-of-type {\n",
       "        vertical-align: middle;\n",
       "    }\n",
       "\n",
       "    .dataframe tbody tr th {\n",
       "        vertical-align: top;\n",
       "    }\n",
       "\n",
       "    .dataframe thead th {\n",
       "        text-align: right;\n",
       "    }\n",
       "</style>\n",
       "<table border=\"1\" class=\"dataframe\">\n",
       "  <thead>\n",
       "    <tr style=\"text-align: right;\">\n",
       "      <th></th>\n",
       "      <th>engagement_reaction_count</th>\n",
       "    </tr>\n",
       "    <tr>\n",
       "      <th>source_name</th>\n",
       "      <th></th>\n",
       "    </tr>\n",
       "  </thead>\n",
       "  <tbody>\n",
       "    <tr>\n",
       "      <th>ABC News</th>\n",
       "      <td>342936.0</td>\n",
       "    </tr>\n",
       "    <tr>\n",
       "      <th>Al Jazeera English</th>\n",
       "      <td>139383.0</td>\n",
       "    </tr>\n",
       "    <tr>\n",
       "      <th>BBC News</th>\n",
       "      <td>516902.0</td>\n",
       "    </tr>\n",
       "    <tr>\n",
       "      <th>Business Insider</th>\n",
       "      <td>216545.0</td>\n",
       "    </tr>\n",
       "    <tr>\n",
       "      <th>CBS News</th>\n",
       "      <td>459741.0</td>\n",
       "    </tr>\n",
       "    <tr>\n",
       "      <th>CNN</th>\n",
       "      <td>1188131.0</td>\n",
       "    </tr>\n",
       "    <tr>\n",
       "      <th>ESPN</th>\n",
       "      <td>0.0</td>\n",
       "    </tr>\n",
       "    <tr>\n",
       "      <th>Newsweek</th>\n",
       "      <td>93167.0</td>\n",
       "    </tr>\n",
       "    <tr>\n",
       "      <th>Reuters</th>\n",
       "      <td>16963.0</td>\n",
       "    </tr>\n",
       "    <tr>\n",
       "      <th>The Irish Times</th>\n",
       "      <td>26152.0</td>\n",
       "    </tr>\n",
       "    <tr>\n",
       "      <th>The New York Times</th>\n",
       "      <td>644308.0</td>\n",
       "    </tr>\n",
       "    <tr>\n",
       "      <th>The Wall Street Journal</th>\n",
       "      <td>81949.0</td>\n",
       "    </tr>\n",
       "  </tbody>\n",
       "</table>\n",
       "</div>"
      ],
      "text/plain": [
       "                         engagement_reaction_count\n",
       "source_name                                       \n",
       "ABC News                                  342936.0\n",
       "Al Jazeera English                        139383.0\n",
       "BBC News                                  516902.0\n",
       "Business Insider                          216545.0\n",
       "CBS News                                  459741.0\n",
       "CNN                                      1188131.0\n",
       "ESPN                                           0.0\n",
       "Newsweek                                   93167.0\n",
       "Reuters                                    16963.0\n",
       "The Irish Times                            26152.0\n",
       "The New York Times                        644308.0\n",
       "The Wall Street Journal                    81949.0"
      ]
     },
     "execution_count": 6,
     "metadata": {},
     "output_type": "execute_result"
    }
   ],
   "source": [
    "engagement_reaction_count = df.groupby('source_name')['engagement_reaction_count'].sum()\n",
    "engagement_reaction_count.to_frame()\n"
   ]
  },
  {
   "cell_type": "markdown",
   "metadata": {
    "papermill": {
     "duration": 0.025671,
     "end_time": "2020-11-27T08:43:39.456739",
     "exception": false,
     "start_time": "2020-11-27T08:43:39.431068",
     "status": "completed"
    },
    "tags": []
   },
   "source": [
    "the engagement comment score grouped by source name"
   ]
  },
  {
   "cell_type": "code",
   "execution_count": 7,
   "metadata": {
    "execution": {
     "iopub.execute_input": "2020-11-27T08:43:39.513674Z",
     "iopub.status.busy": "2020-11-27T08:43:39.512922Z",
     "iopub.status.idle": "2020-11-27T08:43:39.525075Z",
     "shell.execute_reply": "2020-11-27T08:43:39.524421Z"
    },
    "papermill": {
     "duration": 0.0436,
     "end_time": "2020-11-27T08:43:39.525233",
     "exception": false,
     "start_time": "2020-11-27T08:43:39.481633",
     "status": "completed"
    },
    "tags": []
   },
   "outputs": [
    {
     "data": {
      "text/html": [
       "<div>\n",
       "<style scoped>\n",
       "    .dataframe tbody tr th:only-of-type {\n",
       "        vertical-align: middle;\n",
       "    }\n",
       "\n",
       "    .dataframe tbody tr th {\n",
       "        vertical-align: top;\n",
       "    }\n",
       "\n",
       "    .dataframe thead th {\n",
       "        text-align: right;\n",
       "    }\n",
       "</style>\n",
       "<table border=\"1\" class=\"dataframe\">\n",
       "  <thead>\n",
       "    <tr style=\"text-align: right;\">\n",
       "      <th></th>\n",
       "      <th>engagement_comment_count</th>\n",
       "    </tr>\n",
       "    <tr>\n",
       "      <th>source_name</th>\n",
       "      <th></th>\n",
       "    </tr>\n",
       "  </thead>\n",
       "  <tbody>\n",
       "    <tr>\n",
       "      <th>ABC News</th>\n",
       "      <td>102573.0</td>\n",
       "    </tr>\n",
       "    <tr>\n",
       "      <th>Al Jazeera English</th>\n",
       "      <td>45835.0</td>\n",
       "    </tr>\n",
       "    <tr>\n",
       "      <th>BBC News</th>\n",
       "      <td>196855.0</td>\n",
       "    </tr>\n",
       "    <tr>\n",
       "      <th>Business Insider</th>\n",
       "      <td>101292.0</td>\n",
       "    </tr>\n",
       "    <tr>\n",
       "      <th>CBS News</th>\n",
       "      <td>170960.0</td>\n",
       "    </tr>\n",
       "    <tr>\n",
       "      <th>CNN</th>\n",
       "      <td>334455.0</td>\n",
       "    </tr>\n",
       "    <tr>\n",
       "      <th>ESPN</th>\n",
       "      <td>0.0</td>\n",
       "    </tr>\n",
       "    <tr>\n",
       "      <th>Newsweek</th>\n",
       "      <td>32426.0</td>\n",
       "    </tr>\n",
       "    <tr>\n",
       "      <th>Reuters</th>\n",
       "      <td>7101.0</td>\n",
       "    </tr>\n",
       "    <tr>\n",
       "      <th>The Irish Times</th>\n",
       "      <td>10254.0</td>\n",
       "    </tr>\n",
       "    <tr>\n",
       "      <th>The New York Times</th>\n",
       "      <td>183380.0</td>\n",
       "    </tr>\n",
       "    <tr>\n",
       "      <th>The Wall Street Journal</th>\n",
       "      <td>39042.0</td>\n",
       "    </tr>\n",
       "  </tbody>\n",
       "</table>\n",
       "</div>"
      ],
      "text/plain": [
       "                         engagement_comment_count\n",
       "source_name                                      \n",
       "ABC News                                 102573.0\n",
       "Al Jazeera English                        45835.0\n",
       "BBC News                                 196855.0\n",
       "Business Insider                         101292.0\n",
       "CBS News                                 170960.0\n",
       "CNN                                      334455.0\n",
       "ESPN                                          0.0\n",
       "Newsweek                                  32426.0\n",
       "Reuters                                    7101.0\n",
       "The Irish Times                           10254.0\n",
       "The New York Times                       183380.0\n",
       "The Wall Street Journal                   39042.0"
      ]
     },
     "execution_count": 7,
     "metadata": {},
     "output_type": "execute_result"
    }
   ],
   "source": [
    "engagement_comment_count = df.groupby('source_name')['engagement_comment_count'].sum()\n",
    "engagement_comment_count.to_frame()"
   ]
  },
  {
   "cell_type": "markdown",
   "metadata": {
    "papermill": {
     "duration": 0.025073,
     "end_time": "2020-11-27T08:43:39.576007",
     "exception": false,
     "start_time": "2020-11-27T08:43:39.550934",
     "status": "completed"
    },
    "tags": []
   },
   "source": [
    "the engagement share score grouped by source name"
   ]
  },
  {
   "cell_type": "code",
   "execution_count": 8,
   "metadata": {
    "execution": {
     "iopub.execute_input": "2020-11-27T08:43:39.634958Z",
     "iopub.status.busy": "2020-11-27T08:43:39.634006Z",
     "iopub.status.idle": "2020-11-27T08:43:39.647050Z",
     "shell.execute_reply": "2020-11-27T08:43:39.646386Z"
    },
    "papermill": {
     "duration": 0.045702,
     "end_time": "2020-11-27T08:43:39.647175",
     "exception": false,
     "start_time": "2020-11-27T08:43:39.601473",
     "status": "completed"
    },
    "tags": []
   },
   "outputs": [
    {
     "data": {
      "text/html": [
       "<div>\n",
       "<style scoped>\n",
       "    .dataframe tbody tr th:only-of-type {\n",
       "        vertical-align: middle;\n",
       "    }\n",
       "\n",
       "    .dataframe tbody tr th {\n",
       "        vertical-align: top;\n",
       "    }\n",
       "\n",
       "    .dataframe thead th {\n",
       "        text-align: right;\n",
       "    }\n",
       "</style>\n",
       "<table border=\"1\" class=\"dataframe\">\n",
       "  <thead>\n",
       "    <tr style=\"text-align: right;\">\n",
       "      <th></th>\n",
       "      <th>engagement_share_count</th>\n",
       "    </tr>\n",
       "    <tr>\n",
       "      <th>source_name</th>\n",
       "      <th></th>\n",
       "    </tr>\n",
       "  </thead>\n",
       "  <tbody>\n",
       "    <tr>\n",
       "      <th>ABC News</th>\n",
       "      <td>82335.0</td>\n",
       "    </tr>\n",
       "    <tr>\n",
       "      <th>Al Jazeera English</th>\n",
       "      <td>35345.0</td>\n",
       "    </tr>\n",
       "    <tr>\n",
       "      <th>BBC News</th>\n",
       "      <td>193389.0</td>\n",
       "    </tr>\n",
       "    <tr>\n",
       "      <th>Business Insider</th>\n",
       "      <td>311678.0</td>\n",
       "    </tr>\n",
       "    <tr>\n",
       "      <th>CBS News</th>\n",
       "      <td>108152.0</td>\n",
       "    </tr>\n",
       "    <tr>\n",
       "      <th>CNN</th>\n",
       "      <td>305454.0</td>\n",
       "    </tr>\n",
       "    <tr>\n",
       "      <th>ESPN</th>\n",
       "      <td>0.0</td>\n",
       "    </tr>\n",
       "    <tr>\n",
       "      <th>Newsweek</th>\n",
       "      <td>29067.0</td>\n",
       "    </tr>\n",
       "    <tr>\n",
       "      <th>Reuters</th>\n",
       "      <td>647095.0</td>\n",
       "    </tr>\n",
       "    <tr>\n",
       "      <th>The Irish Times</th>\n",
       "      <td>6677.0</td>\n",
       "    </tr>\n",
       "    <tr>\n",
       "      <th>The New York Times</th>\n",
       "      <td>208337.0</td>\n",
       "    </tr>\n",
       "    <tr>\n",
       "      <th>The Wall Street Journal</th>\n",
       "      <td>32010.0</td>\n",
       "    </tr>\n",
       "  </tbody>\n",
       "</table>\n",
       "</div>"
      ],
      "text/plain": [
       "                         engagement_share_count\n",
       "source_name                                    \n",
       "ABC News                                82335.0\n",
       "Al Jazeera English                      35345.0\n",
       "BBC News                               193389.0\n",
       "Business Insider                       311678.0\n",
       "CBS News                               108152.0\n",
       "CNN                                    305454.0\n",
       "ESPN                                        0.0\n",
       "Newsweek                                29067.0\n",
       "Reuters                                647095.0\n",
       "The Irish Times                          6677.0\n",
       "The New York Times                     208337.0\n",
       "The Wall Street Journal                 32010.0"
      ]
     },
     "execution_count": 8,
     "metadata": {},
     "output_type": "execute_result"
    }
   ],
   "source": [
    "engagement_share_count = df.groupby('source_name')['engagement_share_count'].sum()\n",
    "engagement_share_count.to_frame()"
   ]
  },
  {
   "cell_type": "markdown",
   "metadata": {
    "papermill": {
     "duration": 0.026399,
     "end_time": "2020-11-27T08:43:39.700106",
     "exception": false,
     "start_time": "2020-11-27T08:43:39.673707",
     "status": "completed"
    },
    "tags": []
   },
   "source": [
    "the engagement comment plugin score grouped by source name"
   ]
  },
  {
   "cell_type": "code",
   "execution_count": 9,
   "metadata": {
    "execution": {
     "iopub.execute_input": "2020-11-27T08:43:39.761360Z",
     "iopub.status.busy": "2020-11-27T08:43:39.760211Z",
     "iopub.status.idle": "2020-11-27T08:43:39.772933Z",
     "shell.execute_reply": "2020-11-27T08:43:39.772164Z"
    },
    "papermill": {
     "duration": 0.046097,
     "end_time": "2020-11-27T08:43:39.773054",
     "exception": false,
     "start_time": "2020-11-27T08:43:39.726957",
     "status": "completed"
    },
    "tags": []
   },
   "outputs": [
    {
     "data": {
      "text/html": [
       "<div>\n",
       "<style scoped>\n",
       "    .dataframe tbody tr th:only-of-type {\n",
       "        vertical-align: middle;\n",
       "    }\n",
       "\n",
       "    .dataframe tbody tr th {\n",
       "        vertical-align: top;\n",
       "    }\n",
       "\n",
       "    .dataframe thead th {\n",
       "        text-align: right;\n",
       "    }\n",
       "</style>\n",
       "<table border=\"1\" class=\"dataframe\">\n",
       "  <thead>\n",
       "    <tr style=\"text-align: right;\">\n",
       "      <th></th>\n",
       "      <th>engagement_comment_plugin_count</th>\n",
       "    </tr>\n",
       "    <tr>\n",
       "      <th>source_name</th>\n",
       "      <th></th>\n",
       "    </tr>\n",
       "  </thead>\n",
       "  <tbody>\n",
       "    <tr>\n",
       "      <th>ABC News</th>\n",
       "      <td>1.0</td>\n",
       "    </tr>\n",
       "    <tr>\n",
       "      <th>Al Jazeera English</th>\n",
       "      <td>9.0</td>\n",
       "    </tr>\n",
       "    <tr>\n",
       "      <th>BBC News</th>\n",
       "      <td>0.0</td>\n",
       "    </tr>\n",
       "    <tr>\n",
       "      <th>Business Insider</th>\n",
       "      <td>80.0</td>\n",
       "    </tr>\n",
       "    <tr>\n",
       "      <th>CBS News</th>\n",
       "      <td>0.0</td>\n",
       "    </tr>\n",
       "    <tr>\n",
       "      <th>CNN</th>\n",
       "      <td>30.0</td>\n",
       "    </tr>\n",
       "    <tr>\n",
       "      <th>ESPN</th>\n",
       "      <td>0.0</td>\n",
       "    </tr>\n",
       "    <tr>\n",
       "      <th>Newsweek</th>\n",
       "      <td>0.0</td>\n",
       "    </tr>\n",
       "    <tr>\n",
       "      <th>Reuters</th>\n",
       "      <td>0.0</td>\n",
       "    </tr>\n",
       "    <tr>\n",
       "      <th>The Irish Times</th>\n",
       "      <td>0.0</td>\n",
       "    </tr>\n",
       "    <tr>\n",
       "      <th>The New York Times</th>\n",
       "      <td>0.0</td>\n",
       "    </tr>\n",
       "    <tr>\n",
       "      <th>The Wall Street Journal</th>\n",
       "      <td>0.0</td>\n",
       "    </tr>\n",
       "  </tbody>\n",
       "</table>\n",
       "</div>"
      ],
      "text/plain": [
       "                         engagement_comment_plugin_count\n",
       "source_name                                             \n",
       "ABC News                                             1.0\n",
       "Al Jazeera English                                   9.0\n",
       "BBC News                                             0.0\n",
       "Business Insider                                    80.0\n",
       "CBS News                                             0.0\n",
       "CNN                                                 30.0\n",
       "ESPN                                                 0.0\n",
       "Newsweek                                             0.0\n",
       "Reuters                                              0.0\n",
       "The Irish Times                                      0.0\n",
       "The New York Times                                   0.0\n",
       "The Wall Street Journal                              0.0"
      ]
     },
     "execution_count": 9,
     "metadata": {},
     "output_type": "execute_result"
    }
   ],
   "source": [
    "engagement_comment_plugin_count = df.groupby('source_name')['engagement_comment_plugin_count'].sum()\n",
    "engagement_comment_plugin_count.to_frame()"
   ]
  },
  {
   "cell_type": "markdown",
   "metadata": {
    "papermill": {
     "duration": 0.026992,
     "end_time": "2020-11-27T08:43:39.827337",
     "exception": false,
     "start_time": "2020-11-27T08:43:39.800345",
     "status": "completed"
    },
    "tags": []
   },
   "source": [
    "The reason why we calculated the engagement is to show how interaction in that news,more interaction it have a better result for a news reach new reader.Interaction in online media such as comment,like,share,reaction,upvote,or downvote"
   ]
  },
  {
   "cell_type": "code",
   "execution_count": 10,
   "metadata": {
    "execution": {
     "iopub.execute_input": "2020-11-27T08:43:39.895857Z",
     "iopub.status.busy": "2020-11-27T08:43:39.894870Z",
     "iopub.status.idle": "2020-11-27T08:43:39.899892Z",
     "shell.execute_reply": "2020-11-27T08:43:39.899135Z"
    },
    "papermill": {
     "duration": 0.045066,
     "end_time": "2020-11-27T08:43:39.900012",
     "exception": false,
     "start_time": "2020-11-27T08:43:39.854946",
     "status": "completed"
    },
    "tags": []
   },
   "outputs": [
    {
     "data": {
      "text/html": [
       "<div>\n",
       "<style scoped>\n",
       "    .dataframe tbody tr th:only-of-type {\n",
       "        vertical-align: middle;\n",
       "    }\n",
       "\n",
       "    .dataframe tbody tr th {\n",
       "        vertical-align: top;\n",
       "    }\n",
       "\n",
       "    .dataframe thead th {\n",
       "        text-align: right;\n",
       "    }\n",
       "</style>\n",
       "<table border=\"1\" class=\"dataframe\">\n",
       "  <thead>\n",
       "    <tr style=\"text-align: right;\">\n",
       "      <th></th>\n",
       "      <th>0</th>\n",
       "    </tr>\n",
       "    <tr>\n",
       "      <th>source_name</th>\n",
       "      <th></th>\n",
       "    </tr>\n",
       "  </thead>\n",
       "  <tbody>\n",
       "    <tr>\n",
       "      <th>ABC News</th>\n",
       "      <td>52.0</td>\n",
       "    </tr>\n",
       "    <tr>\n",
       "      <th>Al Jazeera English</th>\n",
       "      <td>22.0</td>\n",
       "    </tr>\n",
       "    <tr>\n",
       "      <th>BBC News</th>\n",
       "      <td>90.0</td>\n",
       "    </tr>\n",
       "    <tr>\n",
       "      <th>Business Insider</th>\n",
       "      <td>62.0</td>\n",
       "    </tr>\n",
       "    <tr>\n",
       "      <th>CBS News</th>\n",
       "      <td>73.0</td>\n",
       "    </tr>\n",
       "    <tr>\n",
       "      <th>CNN</th>\n",
       "      <td>182.0</td>\n",
       "    </tr>\n",
       "    <tr>\n",
       "      <th>ESPN</th>\n",
       "      <td>0.0</td>\n",
       "    </tr>\n",
       "    <tr>\n",
       "      <th>Newsweek</th>\n",
       "      <td>15.0</td>\n",
       "    </tr>\n",
       "    <tr>\n",
       "      <th>Reuters</th>\n",
       "      <td>67.0</td>\n",
       "    </tr>\n",
       "    <tr>\n",
       "      <th>The Irish Times</th>\n",
       "      <td>4.0</td>\n",
       "    </tr>\n",
       "    <tr>\n",
       "      <th>The New York Times</th>\n",
       "      <td>103.0</td>\n",
       "    </tr>\n",
       "    <tr>\n",
       "      <th>The Wall Street Journal</th>\n",
       "      <td>15.0</td>\n",
       "    </tr>\n",
       "  </tbody>\n",
       "</table>\n",
       "</div>"
      ],
      "text/plain": [
       "                             0\n",
       "source_name                   \n",
       "ABC News                  52.0\n",
       "Al Jazeera English        22.0\n",
       "BBC News                  90.0\n",
       "Business Insider          62.0\n",
       "CBS News                  73.0\n",
       "CNN                      182.0\n",
       "ESPN                       0.0\n",
       "Newsweek                  15.0\n",
       "Reuters                   67.0\n",
       "The Irish Times            4.0\n",
       "The New York Times       103.0\n",
       "The Wall Street Journal   15.0"
      ]
     },
     "execution_count": 10,
     "metadata": {},
     "output_type": "execute_result"
    }
   ],
   "source": [
    "final_engagement_score = engagement_reaction_count + engagement_comment_count + engagement_share_count + engagement_comment_plugin_count \n",
    "final_engagement_score = final_engagement_score // 10000\n",
    "final_engagement_score.to_frame()"
   ]
  },
  {
   "cell_type": "markdown",
   "metadata": {
    "papermill": {
     "duration": 0.027695,
     "end_time": "2020-11-27T08:43:39.955582",
     "exception": false,
     "start_time": "2020-11-27T08:43:39.927887",
     "status": "completed"
    },
    "tags": []
   },
   "source": [
    "This is for tell us how much are the author in the dataset,it also tell us how much an news produced by each author"
   ]
  },
  {
   "cell_type": "code",
   "execution_count": 11,
   "metadata": {
    "execution": {
     "iopub.execute_input": "2020-11-27T08:43:40.027251Z",
     "iopub.status.busy": "2020-11-27T08:43:40.026334Z",
     "iopub.status.idle": "2020-11-27T08:43:40.031601Z",
     "shell.execute_reply": "2020-11-27T08:43:40.030820Z"
    },
    "papermill": {
     "duration": 0.048499,
     "end_time": "2020-11-27T08:43:40.031731",
     "exception": false,
     "start_time": "2020-11-27T08:43:39.983232",
     "status": "completed"
    },
    "tags": []
   },
   "outputs": [
    {
     "data": {
      "text/html": [
       "<div>\n",
       "<style scoped>\n",
       "    .dataframe tbody tr th:only-of-type {\n",
       "        vertical-align: middle;\n",
       "    }\n",
       "\n",
       "    .dataframe tbody tr th {\n",
       "        vertical-align: top;\n",
       "    }\n",
       "\n",
       "    .dataframe thead th {\n",
       "        text-align: right;\n",
       "    }\n",
       "</style>\n",
       "<table border=\"1\" class=\"dataframe\">\n",
       "  <thead>\n",
       "    <tr style=\"text-align: right;\">\n",
       "      <th></th>\n",
       "      <th>source_name</th>\n",
       "    </tr>\n",
       "  </thead>\n",
       "  <tbody>\n",
       "    <tr>\n",
       "      <th>Reuters</th>\n",
       "      <td>1252</td>\n",
       "    </tr>\n",
       "    <tr>\n",
       "      <th>ABC News</th>\n",
       "      <td>1137</td>\n",
       "    </tr>\n",
       "    <tr>\n",
       "      <th>Business Insider</th>\n",
       "      <td>1048</td>\n",
       "    </tr>\n",
       "    <tr>\n",
       "      <th>The Irish Times</th>\n",
       "      <td>993</td>\n",
       "    </tr>\n",
       "    <tr>\n",
       "      <th>CNN</th>\n",
       "      <td>961</td>\n",
       "    </tr>\n",
       "    <tr>\n",
       "      <th>CBS News</th>\n",
       "      <td>941</td>\n",
       "    </tr>\n",
       "    <tr>\n",
       "      <th>The New York Times</th>\n",
       "      <td>869</td>\n",
       "    </tr>\n",
       "    <tr>\n",
       "      <th>BBC News</th>\n",
       "      <td>746</td>\n",
       "    </tr>\n",
       "    <tr>\n",
       "      <th>Newsweek</th>\n",
       "      <td>539</td>\n",
       "    </tr>\n",
       "    <tr>\n",
       "      <th>Al Jazeera English</th>\n",
       "      <td>471</td>\n",
       "    </tr>\n",
       "    <tr>\n",
       "      <th>The Wall Street Journal</th>\n",
       "      <td>294</td>\n",
       "    </tr>\n",
       "    <tr>\n",
       "      <th>ESPN</th>\n",
       "      <td>48</td>\n",
       "    </tr>\n",
       "  </tbody>\n",
       "</table>\n",
       "</div>"
      ],
      "text/plain": [
       "                         source_name\n",
       "Reuters                         1252\n",
       "ABC News                        1137\n",
       "Business Insider                1048\n",
       "The Irish Times                  993\n",
       "CNN                              961\n",
       "CBS News                         941\n",
       "The New York Times               869\n",
       "BBC News                         746\n",
       "Newsweek                         539\n",
       "Al Jazeera English               471\n",
       "The Wall Street Journal          294\n",
       "ESPN                              48"
      ]
     },
     "execution_count": 11,
     "metadata": {},
     "output_type": "execute_result"
    }
   ],
   "source": [
    "highest_source = df['source_name'].value_counts()\n",
    "highest_source.to_frame()"
   ]
  },
  {
   "cell_type": "markdown",
   "metadata": {
    "papermill": {
     "duration": 0.028354,
     "end_time": "2020-11-27T08:43:40.089832",
     "exception": false,
     "start_time": "2020-11-27T08:43:40.061478",
     "status": "completed"
    },
    "tags": []
   },
   "source": [
    "**Data Visualization**"
   ]
  },
  {
   "cell_type": "code",
   "execution_count": 12,
   "metadata": {
    "execution": {
     "iopub.execute_input": "2020-11-27T08:43:40.154247Z",
     "iopub.status.busy": "2020-11-27T08:43:40.153415Z",
     "iopub.status.idle": "2020-11-27T08:43:40.397218Z",
     "shell.execute_reply": "2020-11-27T08:43:40.396574Z"
    },
    "papermill": {
     "duration": 0.278712,
     "end_time": "2020-11-27T08:43:40.397384",
     "exception": false,
     "start_time": "2020-11-27T08:43:40.118672",
     "status": "completed"
    },
    "tags": []
   },
   "outputs": [
    {
     "data": {
      "image/png": "[encoded data removed]",
      "text/plain": [
       "<Figure size 432x288 with 1 Axes>"
      ]
     },
     "metadata": {},
     "output_type": "display_data"
    }
   ],
   "source": [
    "label = list(highest_source.index.values)\n",
    "plt.pie(highest_source,labels=label,autopct='%1.1f%%')\n",
    "plt.title('Highest amount of news')\n",
    "plt.show()"
   ]
  },
  {
   "cell_type": "markdown",
   "metadata": {
    "papermill": {
     "duration": 0.029785,
     "end_time": "2020-11-27T08:43:40.458122",
     "exception": false,
     "start_time": "2020-11-27T08:43:40.428337",
     "status": "completed"
    },
    "tags": []
   },
   "source": [
    "In communication science there is a called opinion leader.Opinion leader is a someone,public figure,organization,goverments or mass media who have a large amount of influence to other people in a certain issue.In this case we can see how much impact a mass media created by looking at their all engagement score"
   ]
  },
  {
   "cell_type": "code",
   "execution_count": 13,
   "metadata": {
    "execution": {
     "iopub.execute_input": "2020-11-27T08:43:40.530873Z",
     "iopub.status.busy": "2020-11-27T08:43:40.529847Z",
     "iopub.status.idle": "2020-11-27T08:43:40.535603Z",
     "shell.execute_reply": "2020-11-27T08:43:40.534821Z"
    },
    "papermill": {
     "duration": 0.047537,
     "end_time": "2020-11-27T08:43:40.535736",
     "exception": false,
     "start_time": "2020-11-27T08:43:40.488199",
     "status": "completed"
    },
    "tags": []
   },
   "outputs": [
    {
     "data": {
      "text/html": [
       "<div>\n",
       "<style scoped>\n",
       "    .dataframe tbody tr th:only-of-type {\n",
       "        vertical-align: middle;\n",
       "    }\n",
       "\n",
       "    .dataframe tbody tr th {\n",
       "        vertical-align: top;\n",
       "    }\n",
       "\n",
       "    .dataframe thead th {\n",
       "        text-align: right;\n",
       "    }\n",
       "</style>\n",
       "<table border=\"1\" class=\"dataframe\">\n",
       "  <thead>\n",
       "    <tr style=\"text-align: right;\">\n",
       "      <th></th>\n",
       "      <th>0</th>\n",
       "    </tr>\n",
       "    <tr>\n",
       "      <th>source_name</th>\n",
       "      <th></th>\n",
       "    </tr>\n",
       "  </thead>\n",
       "  <tbody>\n",
       "    <tr>\n",
       "      <th>CNN</th>\n",
       "      <td>182.0</td>\n",
       "    </tr>\n",
       "    <tr>\n",
       "      <th>The New York Times</th>\n",
       "      <td>103.0</td>\n",
       "    </tr>\n",
       "    <tr>\n",
       "      <th>BBC News</th>\n",
       "      <td>90.0</td>\n",
       "    </tr>\n",
       "    <tr>\n",
       "      <th>CBS News</th>\n",
       "      <td>73.0</td>\n",
       "    </tr>\n",
       "    <tr>\n",
       "      <th>Reuters</th>\n",
       "      <td>67.0</td>\n",
       "    </tr>\n",
       "    <tr>\n",
       "      <th>Business Insider</th>\n",
       "      <td>62.0</td>\n",
       "    </tr>\n",
       "    <tr>\n",
       "      <th>ABC News</th>\n",
       "      <td>52.0</td>\n",
       "    </tr>\n",
       "    <tr>\n",
       "      <th>Al Jazeera English</th>\n",
       "      <td>22.0</td>\n",
       "    </tr>\n",
       "    <tr>\n",
       "      <th>The Wall Street Journal</th>\n",
       "      <td>15.0</td>\n",
       "    </tr>\n",
       "    <tr>\n",
       "      <th>Newsweek</th>\n",
       "      <td>15.0</td>\n",
       "    </tr>\n",
       "    <tr>\n",
       "      <th>The Irish Times</th>\n",
       "      <td>4.0</td>\n",
       "    </tr>\n",
       "    <tr>\n",
       "      <th>ESPN</th>\n",
       "      <td>0.0</td>\n",
       "    </tr>\n",
       "  </tbody>\n",
       "</table>\n",
       "</div>"
      ],
      "text/plain": [
       "                             0\n",
       "source_name                   \n",
       "CNN                      182.0\n",
       "The New York Times       103.0\n",
       "BBC News                  90.0\n",
       "CBS News                  73.0\n",
       "Reuters                   67.0\n",
       "Business Insider          62.0\n",
       "ABC News                  52.0\n",
       "Al Jazeera English        22.0\n",
       "The Wall Street Journal   15.0\n",
       "Newsweek                  15.0\n",
       "The Irish Times            4.0\n",
       "ESPN                       0.0"
      ]
     },
     "execution_count": 13,
     "metadata": {},
     "output_type": "execute_result"
    }
   ],
   "source": [
    "final_engagement_score = final_engagement_score.sort_values(ascending=False)\n",
    "final_engagement_score.to_frame()\n"
   ]
  },
  {
   "cell_type": "markdown",
   "metadata": {
    "papermill": {
     "duration": 0.03083,
     "end_time": "2020-11-27T08:43:40.597705",
     "exception": false,
     "start_time": "2020-11-27T08:43:40.566875",
     "status": "completed"
    },
    "tags": []
   },
   "source": [
    "We want to find an opinion leader in here so we only take the top 5 of the author"
   ]
  },
  {
   "cell_type": "code",
   "execution_count": 14,
   "metadata": {
    "execution": {
     "iopub.execute_input": "2020-11-27T08:43:40.670705Z",
     "iopub.status.busy": "2020-11-27T08:43:40.669566Z",
     "iopub.status.idle": "2020-11-27T08:43:40.674818Z",
     "shell.execute_reply": "2020-11-27T08:43:40.674040Z"
    },
    "papermill": {
     "duration": 0.0463,
     "end_time": "2020-11-27T08:43:40.674941",
     "exception": false,
     "start_time": "2020-11-27T08:43:40.628641",
     "status": "completed"
    },
    "tags": []
   },
   "outputs": [
    {
     "data": {
      "text/html": [
       "<div>\n",
       "<style scoped>\n",
       "    .dataframe tbody tr th:only-of-type {\n",
       "        vertical-align: middle;\n",
       "    }\n",
       "\n",
       "    .dataframe tbody tr th {\n",
       "        vertical-align: top;\n",
       "    }\n",
       "\n",
       "    .dataframe thead th {\n",
       "        text-align: right;\n",
       "    }\n",
       "</style>\n",
       "<table border=\"1\" class=\"dataframe\">\n",
       "  <thead>\n",
       "    <tr style=\"text-align: right;\">\n",
       "      <th></th>\n",
       "      <th>0</th>\n",
       "    </tr>\n",
       "    <tr>\n",
       "      <th>source_name</th>\n",
       "      <th></th>\n",
       "    </tr>\n",
       "  </thead>\n",
       "  <tbody>\n",
       "    <tr>\n",
       "      <th>CNN</th>\n",
       "      <td>182.0</td>\n",
       "    </tr>\n",
       "    <tr>\n",
       "      <th>The New York Times</th>\n",
       "      <td>103.0</td>\n",
       "    </tr>\n",
       "    <tr>\n",
       "      <th>BBC News</th>\n",
       "      <td>90.0</td>\n",
       "    </tr>\n",
       "    <tr>\n",
       "      <th>CBS News</th>\n",
       "      <td>73.0</td>\n",
       "    </tr>\n",
       "    <tr>\n",
       "      <th>Reuters</th>\n",
       "      <td>67.0</td>\n",
       "    </tr>\n",
       "  </tbody>\n",
       "</table>\n",
       "</div>"
      ],
      "text/plain": [
       "                        0\n",
       "source_name              \n",
       "CNN                 182.0\n",
       "The New York Times  103.0\n",
       "BBC News             90.0\n",
       "CBS News             73.0\n",
       "Reuters              67.0"
      ]
     },
     "execution_count": 14,
     "metadata": {},
     "output_type": "execute_result"
    }
   ],
   "source": [
    "five_highest_engagement_score = final_engagement_score[:5]\n",
    "five_highest_engagement_score.to_frame()"
   ]
  },
  {
   "cell_type": "markdown",
   "metadata": {
    "papermill": {
     "duration": 0.031337,
     "end_time": "2020-11-27T08:43:40.738191",
     "exception": false,
     "start_time": "2020-11-27T08:43:40.706854",
     "status": "completed"
    },
    "tags": []
   },
   "source": [
    "Making an index for plot"
   ]
  },
  {
   "cell_type": "code",
   "execution_count": 15,
   "metadata": {
    "execution": {
     "iopub.execute_input": "2020-11-27T08:43:40.808282Z",
     "iopub.status.busy": "2020-11-27T08:43:40.807143Z",
     "iopub.status.idle": "2020-11-27T08:43:40.812185Z",
     "shell.execute_reply": "2020-11-27T08:43:40.811479Z"
    },
    "papermill": {
     "duration": 0.042661,
     "end_time": "2020-11-27T08:43:40.812326",
     "exception": false,
     "start_time": "2020-11-27T08:43:40.769665",
     "status": "completed"
    },
    "tags": []
   },
   "outputs": [
    {
     "data": {
      "text/plain": [
       "['CNN', 'The New York Times', 'BBC News', 'CBS News', 'Reuters']"
      ]
     },
     "execution_count": 15,
     "metadata": {},
     "output_type": "execute_result"
    }
   ],
   "source": [
    "label = list(five_highest_engagement_score.index.values)\n",
    "label\n"
   ]
  },
  {
   "cell_type": "code",
   "execution_count": 16,
   "metadata": {
    "execution": {
     "iopub.execute_input": "2020-11-27T08:43:40.893616Z",
     "iopub.status.busy": "2020-11-27T08:43:40.892460Z",
     "iopub.status.idle": "2020-11-27T08:43:41.064004Z",
     "shell.execute_reply": "2020-11-27T08:43:41.063298Z"
    },
    "papermill": {
     "duration": 0.219036,
     "end_time": "2020-11-27T08:43:41.064137",
     "exception": false,
     "start_time": "2020-11-27T08:43:40.845101",
     "status": "completed"
    },
    "tags": []
   },
   "outputs": [
    {
     "data": {
      "text/plain": [
       "Text(0.5, 1.0, 'Opinion Leader by Total Engagement ')"
      ]
     },
     "execution_count": 16,
     "metadata": {},
     "output_type": "execute_result"
    },
    {
     "data": {
      "image/png": "[encoded data removed]",
      "text/plain": [
       "<Figure size 1296x360 with 1 Axes>"
      ]
     },
     "metadata": {
      "needs_background": "light"
     },
     "output_type": "display_data"
    }
   ],
   "source": [
    "f, ax = plt.subplots(figsize=(18,5))\n",
    "ax.bar(label,five_highest_engagement_score,color='red', alpha=0.5)\n",
    "ax.set(xlabel='Author',\n",
    "      ylabel='Engagement Score')\n",
    "plt.title('Opinion Leader by Total Engagement ')"
   ]
  },
  {
   "cell_type": "markdown",
   "metadata": {
    "papermill": {
     "duration": 0.033347,
     "end_time": "2020-11-27T08:43:41.131892",
     "exception": false,
     "start_time": "2020-11-27T08:43:41.098545",
     "status": "completed"
    },
    "tags": []
   },
   "source": [
    "Another question is,'are opinion leader having a high engagement just by the amount of articel they produced?\".We can check by scatter"
   ]
  },
  {
   "cell_type": "code",
   "execution_count": 17,
   "metadata": {
    "execution": {
     "iopub.execute_input": "2020-11-27T08:43:41.212709Z",
     "iopub.status.busy": "2020-11-27T08:43:41.211856Z",
     "iopub.status.idle": "2020-11-27T08:43:41.422295Z",
     "shell.execute_reply": "2020-11-27T08:43:41.421628Z"
    },
    "papermill": {
     "duration": 0.256689,
     "end_time": "2020-11-27T08:43:41.422436",
     "exception": false,
     "start_time": "2020-11-27T08:43:41.165747",
     "status": "completed"
    },
    "tags": []
   },
   "outputs": [
    {
     "data": {
      "image/png": "[encoded data removed]",
      "text/plain": [
       "<Figure size 432x288 with 1 Axes>"
      ]
     },
     "metadata": {
      "needs_background": "light"
     },
     "output_type": "display_data"
    }
   ],
   "source": [
    "plt.scatter(highest_source,final_engagement_score)\n",
    "plt.xlabel('Amount of total news')\n",
    "plt.ylabel('Amount of engagement score')\n",
    "plt.title('Correlation between amount of articel and engagement score')\n",
    "plt.grid()\n",
    "plt.show()"
   ]
  },
  {
   "cell_type": "markdown",
   "metadata": {
    "papermill": {
     "duration": 0.035056,
     "end_time": "2020-11-27T08:43:41.492847",
     "exception": false,
     "start_time": "2020-11-27T08:43:41.457791",
     "status": "completed"
    },
    "tags": []
   },
   "source": [
    "In the plot we can see more articel written it will have more engagement which will have more traffic and more people will see the ads in the author page.So a lot of online mass media more care about the amount of total news rather than the quality"
   ]
  },
  {
   "cell_type": "code",
   "execution_count": null,
   "metadata": {
    "papermill": {
     "duration": 0.03483,
     "end_time": "2020-11-27T08:43:41.562962",
     "exception": false,
     "start_time": "2020-11-27T08:43:41.528132",
     "status": "completed"
    },
    "tags": []
   },
   "outputs": [],
   "source": []
  }
 ],
 "metadata": {
  "kernelspec": {
   "display_name": "Python 3",
   "language": "python",
   "name": "python3"
  },
  "language_info": {
   "codemirror_mode": {
    "name": "ipython",
    "version": 3
   },
   "file_extension": ".py",
   "mimetype": "text/x-python",
   "name": "python",
   "nbconvert_exporter": "python",
   "pygments_lexer": "ipython3",
   "version": "3.7.6"
  },
  "papermill": {
   "duration": 9.0005,
   "end_time": "2020-11-27T08:43:41.707288",
   "environment_variables": {},
   "exception": null,
   "input_path": "__notebook__.ipynb",
   "output_path": "__notebook__.ipynb",
   "parameters": {},
   "start_time": "2020-11-27T08:43:32.706788",
   "version": "2.1.0"
  }
 },
 "nbformat": 4,
 "nbformat_minor": 4
}
